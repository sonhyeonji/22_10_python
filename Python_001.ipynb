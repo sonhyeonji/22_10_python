{
  "nbformat": 4,
  "nbformat_minor": 0,
  "metadata": {
    "colab": {
      "provenance": [],
      "authorship_tag": "ABX9TyNm/I/9mpxIe1x60MWh33Nj",
      "include_colab_link": true
    },
    "kernelspec": {
      "name": "python3",
      "display_name": "Python 3"
    },
    "language_info": {
      "name": "python"
    }
  },
  "cells": [
    {
      "cell_type": "markdown",
      "metadata": {
        "id": "view-in-github",
        "colab_type": "text"
      },
      "source": [
        "<a href=\"https://colab.research.google.com/github/sonhyeonji/22_10_python/blob/main/Python_001.ipynb\" target=\"_parent\"><img src=\"https://colab.research.google.com/assets/colab-badge.svg\" alt=\"Open In Colab\"/></a>"
      ]
    },
    {
      "cell_type": "markdown",
      "source": [
        "코랩과 깃헙의 첫번째 연결을 진행합니다."
      ],
      "metadata": {
        "id": "JV_4kcgtljVj"
      }
    },
    {
      "cell_type": "code",
      "source": [
        "print(\"Hellow Github\")\n",
        "print(\"Hellow Python\")\n",
        "print(\"안녕하세요?\")\n",
        "print(\"programming에 입문하신것을 축하드립니다\")"
      ],
      "metadata": {
        "colab": {
          "base_uri": "https://localhost:8080/"
        },
        "id": "YDlxC58WmyUK",
        "outputId": "d7ea89a9-ca3d-4a10-cab3-ad6739265d78"
      },
      "execution_count": 4,
      "outputs": [
        {
          "output_type": "stream",
          "name": "stdout",
          "text": [
            "Hellow Github\n",
            "Hellow Python\n",
            "안녕하세요?\n",
            "programming에 입문하신것을 축하드립니다\n"
          ]
        }
      ]
    }
  ]
}